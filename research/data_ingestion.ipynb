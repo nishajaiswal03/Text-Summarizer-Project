{
 "cells": [
  {
   "cell_type": "code",
   "execution_count": 1,
   "metadata": {},
   "outputs": [],
   "source": [
    "import os"
   ]
  },
  {
   "cell_type": "code",
   "execution_count": 2,
   "metadata": {},
   "outputs": [
    {
     "data": {
      "text/plain": [
       "'d:\\\\textSummarizer\\\\Text-Summarizer-Project\\\\research'"
      ]
     },
     "execution_count": 2,
     "metadata": {},
     "output_type": "execute_result"
    }
   ],
   "source": [
    "pwd"
   ]
  },
  {
   "cell_type": "code",
   "execution_count": 3,
   "metadata": {},
   "outputs": [],
   "source": [
    "os.chdir(\"../\")"
   ]
  },
  {
   "cell_type": "code",
   "execution_count": 4,
   "metadata": {},
   "outputs": [
    {
     "data": {
      "text/plain": [
       "'d:\\\\textSummarizer\\\\Text-Summarizer-Project'"
      ]
     },
     "execution_count": 4,
     "metadata": {},
     "output_type": "execute_result"
    }
   ],
   "source": [
    "pwd"
   ]
  },
  {
   "cell_type": "code",
   "execution_count": null,
   "metadata": {},
   "outputs": [],
   "source": [
    "#entity\n",
    "from dataclasses import dataclass\n",
    "from pathlib import Path\n",
    "\n",
    "@dataclass(frozen=True)\n",
    "class DataIngestionConfig:\n",
    "    root_dir: Path\n",
    "    source_URL: str\n",
    "    local_data_file: Path\n",
    "    unzip_dir: Path"
   ]
  },
  {
   "cell_type": "code",
   "execution_count": 6,
   "metadata": {},
   "outputs": [],
   "source": [
    "import sys\n",
    "import os\n",
    "import setuptools\n",
    "\n",
    "# Move up from research/ to project root, then go to src/\n",
    "project_root = os.path.abspath(os.path.join(os.getcwd(), \"..\", \"src\"))\n",
    "\n",
    "# Add src/ to sys.path\n",
    "sys.path.append(project_root)\n",
    "\n",
    "package_dir={\"\": \"src\"},\n",
    "packages=setuptools.find_packages(where=\"src\"),\n",
    "\n"
   ]
  },
  {
   "cell_type": "code",
   "execution_count": 7,
   "metadata": {},
   "outputs": [],
   "source": [
    "\n",
    "# Now import modules\n",
    "from textSummarizer.constants import *\n",
    "from textSummarizer.utils.common import read_yaml, create_directories\n"
   ]
  },
  {
   "cell_type": "code",
   "execution_count": 8,
   "metadata": {},
   "outputs": [],
   "source": [
    "#!pip install python-box"
   ]
  },
  {
   "cell_type": "code",
   "execution_count": 9,
   "metadata": {},
   "outputs": [],
   "source": [
    "#!pip install pyyaml ensure python-box pathlib typing-extensions\n"
   ]
  },
  {
   "cell_type": "code",
   "execution_count": 10,
   "metadata": {},
   "outputs": [],
   "source": [
    "class ConfigurationManager:\n",
    "    def __init__(\n",
    "            self,\n",
    "            config_filepath = CONFIG_FILE_PATH,\n",
    "            params_filepath = PARAMS_FILE_PATH\n",
    "    ):\n",
    "        \n",
    "        self.config = read_yaml(config_filepath)\n",
    "        self.params = read_yaml(params_filepath)\n",
    "\n",
    "        create_directories([self.config.artifacts_root])\n",
    "\n",
    "\n",
    "    def get_data_ingestion_config(self) -> DataIngestionConfig:\n",
    "        config = self.config.data_ingestion\n",
    "\n",
    "        create_directories([config.root_dir])\n",
    "\n",
    "        data_ingestion_config = DataIngestionConfig(\n",
    "            root_dir=config.root_dir,\n",
    "            source_URL=config.root_dir,\n",
    "            local_data_file=config.local_data_file,\n",
    "            unzip_dir=config.unzip_dir\n",
    "         )\n",
    "\n",
    "\n",
    "        return data_ingestion_config\n",
    "    "
   ]
  },
  {
   "cell_type": "code",
   "execution_count": 11,
   "metadata": {},
   "outputs": [],
   "source": [
    "import os\n",
    "import urllib.request as request\n",
    "import zipfile\n",
    "from textSummarizer.logging import logger\n",
    "from textSummarizer.utils.common import get_size"
   ]
  },
  {
   "cell_type": "code",
   "execution_count": 12,
   "metadata": {},
   "outputs": [],
   "source": [
    "import yaml\n",
    "\n",
    "class DataIngestion:\n",
    "    def __init__(self, config: DataIngestionConfig):\n",
    "        self.config = config\n",
    "\n",
    "    def download_file(self):\n",
    "        if not os.path.exists(self.config.local_data_file):\n",
    "            filename, headers = request.urlretrieve(\n",
    "                url = self.config.source_URL,\n",
    "                filename = self.config.local_data_file\n",
    "            )\n",
    "            logger.info(f\"{filename} download! with following info: \\n{headers}\")\n",
    "\n",
    "        else:\n",
    "            logger.info(f\"File already exists of size: {get_size(Path(self.config.local_data_file))}\")\n",
    "\n",
    "        \n",
    "    def extract_zip_file(self):\n",
    "        \"\"\" \n",
    "        zip_file_path: str\n",
    "        Extracts the zip file into the data directory\n",
    "        Function returns None\n",
    "\n",
    "        \"\"\"\n",
    "\n",
    "        unzip_path = self.config.unzip_dir\n",
    "        os.makedirs(unzip_path, exist_ok=True)\n",
    "        with zipfile.ZipFile(self.config.local_data_file, 'r') as zip_ref:\n",
    "            zip_ref.extractall(unzip_path)\n",
    "\n",
    "            \n",
    "\n",
    "\n"
   ]
  },
  {
   "cell_type": "code",
   "execution_count": 22,
   "metadata": {},
   "outputs": [],
   "source": [
    "import yaml\n",
    "from textSummarizer.constants import CONFIG_FILE_PATH\n",
    "from textSummarizer.entity.config_entity import DataIngestionConfig\n",
    "\n",
    "\n",
    "class ConfigurationManager:\n",
    "    def __init__(self, config_file_path=CONFIG_FILE_PATH):\n",
    "        with open(config_file_path, \"r\") as yaml_file:\n",
    "            self.config = yaml.safe_load(yaml_file)\n",
    "\n",
    "    def get_data_ingestion_config(self) -> DataIngestionConfig:\n",
    "        data_ingestion = self.config[\"data_ingestion\"]\n",
    "        return DataIngestionConfig(\n",
    "            source_URL=data_ingestion[\"source_URL\"],\n",
    "            root_dir=data_ingestion[\"root_dir\"],\n",
    "            local_data_file=data_ingestion[\"local_data_file\"],\n",
    "            unzip_dir=data_ingestion[\"unzip_dir\"]\n",
    "        )\n"
   ]
  },
  {
   "cell_type": "code",
   "execution_count": null,
   "metadata": {},
   "outputs": [
    {
     "name": "stdout",
     "output_type": "stream",
     "text": [
      "['C:\\\\pythonNew\\\\python312.zip', 'C:\\\\pythonNew\\\\DLLs', 'C:\\\\pythonNew\\\\Lib', 'C:\\\\pythonNew', 'd:\\\\textSummarizer\\\\Text-Summarizer-Project\\\\myproject', '', 'd:\\\\textSummarizer\\\\Text-Summarizer-Project\\\\myproject\\\\Lib\\\\site-packages', 'D:\\\\textSummarizer\\\\Text-Summarizer-Project\\\\src', 'd:\\\\textSummarizer\\\\Text-Summarizer-Project\\\\myproject\\\\Lib\\\\site-packages\\\\win32', 'd:\\\\textSummarizer\\\\Text-Summarizer-Project\\\\myproject\\\\Lib\\\\site-packages\\\\win32\\\\lib', 'd:\\\\textSummarizer\\\\Text-Summarizer-Project\\\\myproject\\\\Lib\\\\site-packages\\\\Pythonwin', 'd:\\\\textSummarizer\\\\Text-Summarizer-Project\\\\myproject\\\\Lib\\\\site-packages\\\\setuptools\\\\_vendor', 'd:\\\\textSummarizer\\\\src', 'd:\\\\textSummarizer\\\\Text-Summarizer-Project\\\\src', 'd:\\\\textSummarizer\\\\Text-Summarizer-Project\\\\src', 'd:\\\\textSummarizer\\\\Text-Summarizer-Project\\\\src', 'd:\\\\textSummarizer\\\\Text-Summarizer-Project\\\\src', 'd:\\\\textSummarizer\\\\Text-Summarizer-Project\\\\src', 'd:\\\\textSummarizer\\\\Text-Summarizer-Project\\\\src', 'd:\\\\textSummarizer\\\\Text-Summarizer-Project\\\\src']\n"
     ]
    }
   ],
   "source": [
    "\"\"\"import sys\n",
    "sys.path.append(os.path.abspath(\"src\"))\n",
    "print(sys.path)\"\"\"\n"
   ]
  },
  {
   "cell_type": "code",
   "execution_count": null,
   "metadata": {},
   "outputs": [
    {
     "name": "stdout",
     "output_type": "stream",
     "text": [
      "D:\\textSummarizer\\Text-Summarizer-Project\\src\\textSummarizer\\__init__.py\n"
     ]
    }
   ],
   "source": [
    "\"\"\"import textSummarizer\n",
    "print(textSummarizer.__file__)\"\"\"\n"
   ]
  },
  {
   "cell_type": "code",
   "execution_count": null,
   "metadata": {},
   "outputs": [
    {
     "ename": "ImportError",
     "evalue": "cannot import name 'ConfigurationManager' from 'textSummarizer.config.configuration' (D:\\textSummarizer\\Text-Summarizer-Project\\src\\textSummarizer\\config\\configuration.py)",
     "output_type": "error",
     "traceback": [
      "\u001b[31m---------------------------------------------------------------------------\u001b[39m",
      "\u001b[31mImportError\u001b[39m                               Traceback (most recent call last)",
      "\u001b[36mCell\u001b[39m\u001b[36m \u001b[39m\u001b[32mIn[24]\u001b[39m\u001b[32m, line 8\u001b[39m\n\u001b[32m      5\u001b[39m sys.path.append(os.path.abspath(\u001b[33m\"\u001b[39m\u001b[33msrc\u001b[39m\u001b[33m\"\u001b[39m))\n\u001b[32m      7\u001b[39m \u001b[38;5;66;03m# Now import your ConfigurationManager\u001b[39;00m\n\u001b[32m----> \u001b[39m\u001b[32m8\u001b[39m \u001b[38;5;28;01mfrom\u001b[39;00m\u001b[38;5;250m \u001b[39m\u001b[34;01mtextSummarizer\u001b[39;00m\u001b[34;01m.\u001b[39;00m\u001b[34;01mconfig\u001b[39;00m\u001b[34;01m.\u001b[39;00m\u001b[34;01mconfiguration\u001b[39;00m\u001b[38;5;250m \u001b[39m\u001b[38;5;28;01mimport\u001b[39;00m ConfigurationManager\n",
      "\u001b[31mImportError\u001b[39m: cannot import name 'ConfigurationManager' from 'textSummarizer.config.configuration' (D:\\textSummarizer\\Text-Summarizer-Project\\src\\textSummarizer\\config\\configuration.py)"
     ]
    }
   ],
   "source": [
    "\"\"\"import sys\n",
    "import os\n",
    "\n",
    "# Add the absolute path of src/ to sys.path\n",
    "sys.path.append(os.path.abspath(\"src\"))\n",
    "\n",
    "# Now import your ConfigurationManager\n",
    "from textSummarizer.config.configuration import ConfigurationManager\"\"\"\n",
    "\n"
   ]
  },
  {
   "cell_type": "code",
   "execution_count": 25,
   "metadata": {},
   "outputs": [
    {
     "name": "stdout",
     "output_type": "stream",
     "text": [
      "[2025-03-02 12:05:09,955: INFO: 2270364012: File already exists of size: ~ 4034 KB]\n"
     ]
    }
   ],
   "source": [
    "#pipeline creation\n",
    "try:\n",
    "    config = ConfigurationManager()\n",
    "    data_ingestion_config = config.get_data_ingestion_config()\n",
    "    data_ingestion = DataIngestion(config=data_ingestion_config)\n",
    "    data_ingestion.download_file()\n",
    "    data_ingestion.extract_zip_file()\n",
    "except Exception as e:\n",
    "    raise e"
   ]
  },
  {
   "cell_type": "code",
   "execution_count": null,
   "metadata": {},
   "outputs": [],
   "source": []
  },
  {
   "cell_type": "code",
   "execution_count": null,
   "metadata": {},
   "outputs": [],
   "source": []
  },
  {
   "cell_type": "code",
   "execution_count": null,
   "metadata": {},
   "outputs": [],
   "source": []
  }
 ],
 "metadata": {
  "kernelspec": {
   "display_name": "myproject",
   "language": "python",
   "name": "python3"
  },
  "language_info": {
   "codemirror_mode": {
    "name": "ipython",
    "version": 3
   },
   "file_extension": ".py",
   "mimetype": "text/x-python",
   "name": "python",
   "nbconvert_exporter": "python",
   "pygments_lexer": "ipython3",
   "version": "3.12.4"
  }
 },
 "nbformat": 4,
 "nbformat_minor": 2
}
